{
 "cells": [
  {
   "cell_type": "code",
   "execution_count": 1,
   "metadata": {},
   "outputs": [],
   "source": [
    "import scprep\n",
    "import pandas as pd"
   ]
  },
  {
   "cell_type": "code",
   "execution_count": 3,
   "metadata": {},
   "outputs": [
    {
     "name": "stderr",
     "output_type": "stream",
     "text": [
      "/home/xs272/.local/lib/python3.9/site-packages/scprep/sanitize.py:49: RuntimeWarning: Data is not numeric. Many scprep functions will not work.\n",
      "  warnings.warn(\n"
     ]
    }
   ],
   "source": [
    "data = scprep.io.load_tsv('/gpfs/gibbs/pi/krishnaswamy_smita/xingzhi/PLN_MAGIC/nature12772-s1/Supplementary_table_1.txt', skiprows=1).set_index('gene name')"
   ]
  },
  {
   "cell_type": "code",
   "execution_count": 4,
   "metadata": {},
   "outputs": [],
   "source": [
    "data = scprep.filter.filter_empty_genes(data)\n",
    "data = scprep.filter.filter_rare_genes(data)\n",
    "data = scprep.filter.filter_library_size(data, cutoff=100)"
   ]
  },
  {
   "cell_type": "code",
   "execution_count": 6,
   "metadata": {},
   "outputs": [],
   "source": [
    "data.to_csv('data/bulk_rna.csv')"
   ]
  },
  {
   "cell_type": "code",
   "execution_count": null,
   "metadata": {},
   "outputs": [],
   "source": []
  }
 ],
 "metadata": {
  "kernelspec": {
   "display_name": "py39",
   "language": "python",
   "name": "python3"
  },
  "language_info": {
   "codemirror_mode": {
    "name": "ipython",
    "version": 3
   },
   "file_extension": ".py",
   "mimetype": "text/x-python",
   "name": "python",
   "nbconvert_exporter": "python",
   "pygments_lexer": "ipython3",
   "version": "3.9.16"
  },
  "orig_nbformat": 4
 },
 "nbformat": 4,
 "nbformat_minor": 2
}
