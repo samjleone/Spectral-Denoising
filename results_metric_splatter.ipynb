{
 "cells": [
  {
   "cell_type": "code",
   "execution_count": 1,
   "metadata": {},
   "outputs": [],
   "source": [
    "import pandas as pd\n",
    "import numpy as np"
   ]
  },
  {
   "cell_type": "code",
   "execution_count": 2,
   "metadata": {},
   "outputs": [],
   "source": [
    "def rel_err(true, pred):\n",
    "    return ((true.to_numpy() - pred.to_numpy())**2).mean() / (true.to_numpy()**2).mean()"
   ]
  },
  {
   "cell_type": "code",
   "execution_count": 3,
   "metadata": {},
   "outputs": [],
   "source": [
    "data_path = 'data/splatter/cellmeans.csv'\n",
    "res_path = 'results/splatter/'"
   ]
  },
  {
   "cell_type": "code",
   "execution_count": 4,
   "metadata": {},
   "outputs": [],
   "source": [
    "true_df = pd.read_csv(data_path).set_index('Unnamed: 0')\n",
    "noisy_bern = pd.read_csv(res_path + 'noisy_bernoulli.csv')\n",
    "noisy_gauss = pd.read_csv(res_path + 'noisy_gaussian.csv')\n",
    "noisy_unif = pd.read_csv(res_path + 'noisy_uniform.csv')\n",
    "denoised_bern = pd.read_csv(res_path + 'denoised_bernoulli.csv')\n",
    "denoised_bern_la = pd.read_csv(res_path + 'denoised_bernoulli_local_avg.csv')\n",
    "denoised_bern_low = pd.read_csv(res_path + 'denoised_bernoulli_bandlimit_low.csv')\n",
    "denoised_bern_high = pd.read_csv(res_path + 'denoised_bernoulli_bandlimit_high.csv')\n",
    "denoised_bern_magic = pd.read_csv(res_path + 'denoised_bernoulli_magic.csv')\n",
    "denoised_gauss = pd.read_csv(res_path + 'denoised_gaussian.csv')\n",
    "denoised_gauss_la = pd.read_csv(res_path + 'denoised_gaussian_local_avg.csv')\n",
    "denoised_gauss_low = pd.read_csv(res_path + 'denoised_gaussian_bandlimit_low.csv')\n",
    "denoised_gauss_high = pd.read_csv(res_path + 'denoised_gaussian_bandlimit_high.csv')\n",
    "denoised_gauss_magic = pd.read_csv(res_path + 'denoised_gaussian_magic.csv')\n",
    "denoised_unif = pd.read_csv(res_path + 'denoised_uniform.csv')\n",
    "denoised_unif_la = pd.read_csv(res_path + 'denoised_uniform_local_avg.csv')\n",
    "denoised_unif_low = pd.read_csv(res_path + 'denoised_uniform_bandlimit_low.csv')\n",
    "denoised_unif_high = pd.read_csv(res_path + 'denoised_uniform_bandlimit_high.csv')\n",
    "denoised_unif_magic = pd.read_csv(res_path + 'denoised_uniform_magic.csv')"
   ]
  },
  {
   "cell_type": "code",
   "execution_count": 5,
   "metadata": {},
   "outputs": [],
   "source": [
    "# Compute relative errors\n",
    "noisy_bern_err = rel_err(true_df, noisy_bern)\n",
    "noisy_gauss_err = rel_err(true_df, noisy_gauss)\n",
    "noisy_unif_err = rel_err(true_df, noisy_unif)\n",
    "denoised_bern_err = rel_err(true_df, denoised_bern)\n",
    "denoised_bern_la_err = rel_err(true_df, denoised_bern_la)\n",
    "denoised_bern_low_err = rel_err(true_df, denoised_bern_low)\n",
    "denoised_bern_high_err = rel_err(true_df, denoised_bern_high)\n",
    "denoised_bern_magic_err = rel_err(true_df, denoised_bern_magic)\n",
    "denoised_gauss_err = rel_err(true_df, denoised_gauss)\n",
    "denoised_gauss_la_err = rel_err(true_df, denoised_gauss_la)\n",
    "denoised_gauss_low_err = rel_err(true_df, denoised_gauss_low)\n",
    "denoised_gauss_high_err = rel_err(true_df, denoised_gauss_high)\n",
    "denoised_gauss_magic_err = rel_err(true_df, denoised_gauss_magic)\n",
    "denoised_unif_err = rel_err(true_df, denoised_unif)\n",
    "denoised_unif_la_err = rel_err(true_df, denoised_unif_la)\n",
    "denoised_unif_low_err = rel_err(true_df, denoised_unif_low)\n",
    "denoised_unif_high_err = rel_err(true_df, denoised_unif_high)\n",
    "denoised_unif_magic_err = rel_err(true_df, denoised_unif_magic)"
   ]
  },
  {
   "cell_type": "code",
   "execution_count": 6,
   "metadata": {},
   "outputs": [],
   "source": [
    "# Create table\n",
    "data = {\n",
    "    'Noise Type': ['Bernoulli', 'Gaussian', 'Uniform'],\n",
    "    'Noisy': [noisy_bern_err, noisy_gauss_err, noisy_unif_err],\n",
    "    'Denoised': [denoised_bern_err, denoised_gauss_err, denoised_unif_err],\n",
    "    'Denoised local avg': [denoised_bern_la_err, denoised_gauss_la_err, denoised_unif_la_err],\n",
    "    'Denoised low pass': [denoised_bern_low_err, denoised_gauss_low_err, denoised_unif_low_err],\n",
    "    'Denoised high pass': [denoised_bern_high_err, denoised_gauss_high_err, denoised_unif_high_err],\n",
    "    'Denoised MAGIC': [denoised_bern_magic_err, denoised_gauss_magic_err, denoised_unif_magic_err]\n",
    "}\n",
    "table = pd.DataFrame(data)\n",
    "table.set_index('Noise Type', inplace=True)"
   ]
  },
  {
   "cell_type": "code",
   "execution_count": 7,
   "metadata": {},
   "outputs": [
    {
     "data": {
      "text/html": [
       "<div>\n",
       "<style scoped>\n",
       "    .dataframe tbody tr th:only-of-type {\n",
       "        vertical-align: middle;\n",
       "    }\n",
       "\n",
       "    .dataframe tbody tr th {\n",
       "        vertical-align: top;\n",
       "    }\n",
       "\n",
       "    .dataframe thead th {\n",
       "        text-align: right;\n",
       "    }\n",
       "</style>\n",
       "<table border=\"1\" class=\"dataframe\">\n",
       "  <thead>\n",
       "    <tr style=\"text-align: right;\">\n",
       "      <th>Noise Type</th>\n",
       "      <th>Bernoulli</th>\n",
       "      <th>Gaussian</th>\n",
       "      <th>Uniform</th>\n",
       "    </tr>\n",
       "  </thead>\n",
       "  <tbody>\n",
       "    <tr>\n",
       "      <th>Noisy</th>\n",
       "      <td>99.9</td>\n",
       "      <td>99.8</td>\n",
       "      <td>99.9</td>\n",
       "    </tr>\n",
       "    <tr>\n",
       "      <th>Denoised</th>\n",
       "      <td>99.8</td>\n",
       "      <td>99.8</td>\n",
       "      <td>99.9</td>\n",
       "    </tr>\n",
       "    <tr>\n",
       "      <th>Denoised local avg</th>\n",
       "      <td>99.9</td>\n",
       "      <td>99.8</td>\n",
       "      <td>99.9</td>\n",
       "    </tr>\n",
       "    <tr>\n",
       "      <th>Denoised low pass</th>\n",
       "      <td>99.9</td>\n",
       "      <td>99.8</td>\n",
       "      <td>99.9</td>\n",
       "    </tr>\n",
       "    <tr>\n",
       "      <th>Denoised high pass</th>\n",
       "      <td>100.0</td>\n",
       "      <td>100.0</td>\n",
       "      <td>100.0</td>\n",
       "    </tr>\n",
       "    <tr>\n",
       "      <th>Denoised MAGIC</th>\n",
       "      <td>99.9</td>\n",
       "      <td>99.8</td>\n",
       "      <td>99.9</td>\n",
       "    </tr>\n",
       "  </tbody>\n",
       "</table>\n",
       "</div>"
      ],
      "text/plain": [
       "Noise Type          Bernoulli  Gaussian  Uniform\n",
       "Noisy                    99.9      99.8     99.9\n",
       "Denoised                 99.8      99.8     99.9\n",
       "Denoised local avg       99.9      99.8     99.9\n",
       "Denoised low pass        99.9      99.8     99.9\n",
       "Denoised high pass      100.0     100.0    100.0\n",
       "Denoised MAGIC           99.9      99.8     99.9"
      ]
     },
     "execution_count": 7,
     "metadata": {},
     "output_type": "execute_result"
    }
   ],
   "source": [
    "table.apply(lambda x: np.round(x * 100, 1)).T"
   ]
  },
  {
   "cell_type": "code",
   "execution_count": null,
   "metadata": {},
   "outputs": [],
   "source": []
  }
 ],
 "metadata": {
  "kernelspec": {
   "display_name": "py39",
   "language": "python",
   "name": "python3"
  },
  "language_info": {
   "codemirror_mode": {
    "name": "ipython",
    "version": 3
   },
   "file_extension": ".py",
   "mimetype": "text/x-python",
   "name": "python",
   "nbconvert_exporter": "python",
   "pygments_lexer": "ipython3",
   "version": "3.9.16"
  },
  "orig_nbformat": 4
 },
 "nbformat": 4,
 "nbformat_minor": 2
}
