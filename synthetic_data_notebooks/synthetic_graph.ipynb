{
 "cells": [
  {
   "cell_type": "code",
   "execution_count": null,
   "metadata": {},
   "outputs": [],
   "source": [
    "randomly generate a scale-free graph.  \n",
    "then generate a random gaussian noise.  \n",
    "then add bernoulli dropout.  "
   ]
  },
  {
   "cell_type": "code",
   "execution_count": 1,
   "metadata": {},
   "outputs": [],
   "source": [
    "import networkx as nx\n",
    "import scipy\n",
    "import scipy.linalg as la\n",
    "import numpy as np\n",
    "import torch\n",
    "# from gnn_magic import PolyBasis, LapPolyLayer, LapPolyNN, LinearLayer\n",
    "# from train import make_dataloader, train\n",
    "# from utils import lib_size_normalize, log_transform\n",
    "# import matplotlib.pyplot as plt\n",
    "\n",
    "def generate_gaussian(spec, V, n):\n",
    "    y_sample = np.random.normal(0, 1, (n, len(spec)))\n",
    "    # yf = spec_pow_n(spec, n_pow) * y_sample\n",
    "    yf = spec * y_sample\n",
    "    y = V @ yf.T\n",
    "    return y.T\n",
    "def f_drop(x, mean, scale=1.):\n",
    "    return sigmoid((x - mean) * scale)\n",
    "def sigmoid(x):\n",
    "    return 1 / (1 + torch.exp(-x))"
   ]
  },
  {
   "cell_type": "code",
   "execution_count": 2,
   "metadata": {},
   "outputs": [],
   "source": [
    "g = nx.scale_free_graph(1000)\n",
    "N = g.number_of_nodes()\n",
    "A = nx.adjacency_matrix(g)\n",
    "A = (A + A.T) / 2\n",
    "A += scipy.sparse.diags(np.ones(N)) * 1\n",
    "D = scipy.sparse.diags(np.array(A.sum(axis=1)).flatten())\n",
    "Dinv = scipy.sparse.diags(1 / np.array(A.sum(axis=1)).flatten())\n",
    "P = A @ Dinv\n",
    "D_invhf = scipy.sparse.diags(1/np.sqrt(np.array(A.sum(axis=1)).flatten()))\n",
    "L = D_invhf @ (D - A) @ D_invhf\n",
    "Ld = L.toarray()\n",
    "spec, V = la.eigh(Ld)\n",
    "means = np.random.rand(1, N) * 20\n",
    "n = 10000\n",
    "z = torch.tensor(generate_gaussian(spec, V, n)) * 2 + means\n",
    "z -= z.min()\n",
    "p_drops = f_drop(z, 15., .2)\n",
    "d = torch.bernoulli(p_drops)\n",
    "x = d * z"
   ]
  },
  {
   "cell_type": "code",
   "execution_count": 3,
   "metadata": {},
   "outputs": [],
   "source": [
    "# plt.hist(p_drops.flatten(), bins=100)\n",
    "# plt.show()"
   ]
  },
  {
   "cell_type": "code",
   "execution_count": 4,
   "metadata": {},
   "outputs": [],
   "source": [
    "# plt.hist(x.flatten(), bins=100)\n",
    "# plt.show()"
   ]
  },
  {
   "cell_type": "code",
   "execution_count": 5,
   "metadata": {},
   "outputs": [],
   "source": [
    "# plt.hist(z.flatten(), bins=100)\n",
    "# plt.show()"
   ]
  },
  {
   "cell_type": "code",
   "execution_count": 6,
   "metadata": {},
   "outputs": [],
   "source": [
    "# plt.scatter(z, x, s=.1, alpha=0.5)\n",
    "# plt.show()"
   ]
  },
  {
   "cell_type": "code",
   "execution_count": 7,
   "metadata": {},
   "outputs": [],
   "source": [
    "torch.save(x.float(), 'data/x.pt')\n",
    "torch.save(z.float(), 'data/z.pt')"
   ]
  },
  {
   "cell_type": "code",
   "execution_count": null,
   "metadata": {},
   "outputs": [],
   "source": []
  }
 ],
 "metadata": {
  "kernelspec": {
   "display_name": "pyg",
   "language": "python",
   "name": "python3"
  },
  "language_info": {
   "codemirror_mode": {
    "name": "ipython",
    "version": 3
   },
   "file_extension": ".py",
   "mimetype": "text/x-python",
   "name": "python",
   "nbconvert_exporter": "python",
   "pygments_lexer": "ipython3",
   "version": "3.9.16"
  },
  "orig_nbformat": 4
 },
 "nbformat": 4,
 "nbformat_minor": 2
}
