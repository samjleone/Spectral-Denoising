{
 "cells": [
  {
   "cell_type": "code",
   "execution_count": 55,
   "metadata": {},
   "outputs": [],
   "source": [
    "import pandas as pd\n",
    "import numpy as np"
   ]
  },
  {
   "cell_type": "code",
   "execution_count": 56,
   "metadata": {},
   "outputs": [],
   "source": [
    "def rel_err(true, pred):\n",
    "    return ((true.to_numpy() - pred.to_numpy())**2).mean() / (true.to_numpy()**2).mean()"
   ]
  },
  {
   "cell_type": "code",
   "execution_count": 57,
   "metadata": {},
   "outputs": [],
   "source": [
    "data_path = 'data/bulk_rna.csv'\n",
    "res_path = 'results/bulk_rna/'"
   ]
  },
  {
   "cell_type": "code",
   "execution_count": 58,
   "metadata": {},
   "outputs": [],
   "source": [
    "true_df = pd.read_csv(data_path).set_index('gene name')\n",
    "noisy_bern = pd.read_csv(res_path + 'noisy_bernoulli.csv')\n",
    "noisy_gauss = pd.read_csv(res_path + 'noisy_gaussian.csv')\n",
    "noisy_unif = pd.read_csv(res_path + 'noisy_uniform.csv')\n",
    "denoised_bern = pd.read_csv(res_path + 'denoised_bernoulli.csv')\n",
    "denoised_bern_la = pd.read_csv(res_path + 'denoised_bernoulli_local_avg.csv')\n",
    "denoised_bern_magic = pd.read_csv(res_path + 'denoised_bernoulli_magic.csv')\n",
    "denoised_gauss = pd.read_csv(res_path + 'denoised_gaussian.csv')\n",
    "denoised_gauss_la = pd.read_csv(res_path + 'denoised_gaussian_local_avg.csv')\n",
    "denoised_gauss_magic = pd.read_csv(res_path + 'denoised_gaussian_magic.csv')\n",
    "denoised_unif = pd.read_csv(res_path + 'denoised_uniform.csv')\n",
    "denoised_unif_la = pd.read_csv(res_path + 'denoised_uniform_local_avg.csv')\n",
    "denoised_unif_magic = pd.read_csv(res_path + 'denoised_uniform_magic.csv')"
   ]
  },
  {
   "cell_type": "code",
   "execution_count": 59,
   "metadata": {},
   "outputs": [],
   "source": [
    "# Compute relative errors\n",
    "noisy_bern_err = rel_err(true_df, noisy_bern)\n",
    "noisy_gauss_err = rel_err(true_df, noisy_gauss)\n",
    "noisy_unif_err = rel_err(true_df, noisy_unif)\n",
    "denoised_bern_err = rel_err(true_df, denoised_bern)\n",
    "denoised_bern_la_err = rel_err(true_df, denoised_bern_la)\n",
    "denoised_bern_magic_err = rel_err(true_df, denoised_bern_magic)\n",
    "denoised_gauss_err = rel_err(true_df, denoised_gauss)\n",
    "denoised_gauss_la_err = rel_err(true_df, denoised_gauss_la)\n",
    "denoised_gauss_magic_err = rel_err(true_df, denoised_gauss_magic)\n",
    "denoised_unif_err = rel_err(true_df, denoised_unif)\n",
    "denoised_unif_la_err = rel_err(true_df, denoised_unif_la)\n",
    "denoised_unif_magic_err = rel_err(true_df, denoised_unif_magic)"
   ]
  },
  {
   "cell_type": "code",
   "execution_count": 60,
   "metadata": {},
   "outputs": [
    {
     "name": "stdout",
     "output_type": "stream",
     "text": [
      "               Noisy     Denoised  Denoised local avg  Denoised MAGIC\n",
      "Noise Type                                                           \n",
      "Bernoulli   0.500851     0.079178            0.398563        0.401444\n",
      "Gaussian    0.373564     0.152842            0.064125        0.055090\n",
      "Uniform     0.280088  1381.507462            0.291699        0.301592\n"
     ]
    }
   ],
   "source": [
    "# Create table\n",
    "data = {\n",
    "    'Noise Type': ['Bernoulli', 'Gaussian', 'Uniform'],\n",
    "    'Noisy': [noisy_bern_err, noisy_gauss_err, noisy_unif_err],\n",
    "    'Denoised': [denoised_bern_err, denoised_gauss_err, denoised_unif_err],\n",
    "    'Denoised local avg': [denoised_bern_la_err, denoised_gauss_la_err, denoised_unif_la_err],\n",
    "    'Denoised MAGIC': [denoised_bern_magic_err, denoised_gauss_magic_err, denoised_unif_magic_err]\n",
    "}\n",
    "table = pd.DataFrame(data)\n",
    "table.set_index('Noise Type', inplace=True)\n",
    "print(table)"
   ]
  },
  {
   "cell_type": "code",
   "execution_count": null,
   "metadata": {},
   "outputs": [],
   "source": []
  }
 ],
 "metadata": {
  "kernelspec": {
   "display_name": "py39",
   "language": "python",
   "name": "python3"
  },
  "language_info": {
   "codemirror_mode": {
    "name": "ipython",
    "version": 3
   },
   "file_extension": ".py",
   "mimetype": "text/x-python",
   "name": "python",
   "nbconvert_exporter": "python",
   "pygments_lexer": "ipython3",
   "version": "3.9.16"
  },
  "orig_nbformat": 4
 },
 "nbformat": 4,
 "nbformat_minor": 2
}
