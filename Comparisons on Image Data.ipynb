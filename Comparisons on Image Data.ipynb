{
 "cells": [
  {
   "cell_type": "code",
   "execution_count": 1,
   "id": "c1377f2c",
   "metadata": {},
   "outputs": [
    {
     "name": "stderr",
     "output_type": "stream",
     "text": [
      "/Library/Frameworks/Python.framework/Versions/3.7/lib/python3.7/site-packages/tqdm/auto.py:21: TqdmWarning: IProgress not found. Please update jupyter and ipywidgets. See https://ipywidgets.readthedocs.io/en/stable/user_install.html\n",
      "  from .autonotebook import tqdm as notebook_tqdm\n"
     ]
    }
   ],
   "source": [
    "from PIL import Image\n",
    "import pygsp.graphs as graphs\n",
    "import numpy as np\n",
    "import matplotlib.pyplot as plt\n",
    "import spectral_denoiser\n",
    "import importlib\n",
    "import pandas as pd"
   ]
  },
  {
   "cell_type": "markdown",
   "id": "7038860f",
   "metadata": {},
   "source": [
    "# Comparison to Local Averaging"
   ]
  },
  {
   "cell_type": "code",
   "execution_count": 2,
   "id": "020784c4",
   "metadata": {},
   "outputs": [],
   "source": [
    "N = 80\n",
    "True_Image = np.asarray(Image.open(\"noodle.jpg\").resize((N,N)))\n",
    "G = graphs.Grid2d(N)"
   ]
  },
  {
   "cell_type": "code",
   "execution_count": 3,
   "id": "85396b8d",
   "metadata": {},
   "outputs": [],
   "source": [
    "Denoising_Machine = spectral_denoiser.Spectral_Denoiser(G)"
   ]
  },
  {
   "cell_type": "code",
   "execution_count": 4,
   "id": "411214e4",
   "metadata": {},
   "outputs": [],
   "source": [
    "df = pd.DataFrame()"
   ]
  },
  {
   "cell_type": "code",
   "execution_count": 5,
   "id": "0262617f",
   "metadata": {},
   "outputs": [
    {
     "name": "stderr",
     "output_type": "stream",
     "text": [
      "2023-04-26 09:41:02,559:[WARNING](pygsp.graphs.graph.lmax): The largest eigenvalue G.lmax is not available, we need to estimate it. Explicitly call G.estimate_lmax() or G.compute_fourier_basis() once beforehand to suppress the warning.\n"
     ]
    }
   ],
   "source": [
    "spectral_errors = []\n",
    "k_nn_errors = []\n",
    "\n",
    "for i,sigma in enumerate([25,50,75,100]):\n",
    "    A = G.W.todense()\n",
    "    P = np.diag(1/np.array(np.sum(A,axis=0))[0])@A\n",
    "\n",
    "    Noisy_Image = True_Image + np.random.randn(N,N,3)*sigma\n",
    "    Noisy_Reshaped = Noisy_Image.reshape(-1,3)\n",
    "    Denoised_Image = Denoising_Machine.remove_gaussian_noise(Noisy_Reshaped)\n",
    "    Denoised_Image_Reshaped = Denoised_Image.reshape(N,N,3)\n",
    "    \n",
    "    se = np.linalg.norm(Denoised_Image_Reshaped - True_Image)\n",
    "    spectral_errors.append(se)\n",
    "    Neighbor_Avgs = Noisy_Reshaped\n",
    "    \n",
    "    k_nn_sigma = []\n",
    "    for k in range(4):\n",
    "        Neighbor_Avgs = P@(P@(P@Neighbor_Avgs))\n",
    "        reshaped = np.array(Neighbor_Avgs).reshape(N,N,3)\n",
    "        ke = np.linalg.norm(reshaped - True_Image)\n",
    "        k_nn_sigma.append(ke)\n",
    "    k_nn_errors.append(k_nn_sigma)\n",
    "    "
   ]
  },
  {
   "cell_type": "code",
   "execution_count": 6,
   "id": "cbc89582",
   "metadata": {},
   "outputs": [],
   "source": [
    "df['Spectral'] = spectral_errors\n",
    "df['K=3'] = np.array(k_nn_errors)[:,0]\n",
    "df['K=6'] = np.array(k_nn_errors)[:,1]\n",
    "df['K=9'] = np.array(k_nn_errors)[:,2]\n",
    "df['K=12'] = np.array(k_nn_errors)[:,3]\n",
    "df.index = ['sigma = 25', 'sigma = 50', 'sigma = 75', 'sigma = 100']"
   ]
  },
  {
   "cell_type": "code",
   "execution_count": 7,
   "id": "b201c984",
   "metadata": {},
   "outputs": [
    {
     "data": {
      "text/html": [
       "<div>\n",
       "<style scoped>\n",
       "    .dataframe tbody tr th:only-of-type {\n",
       "        vertical-align: middle;\n",
       "    }\n",
       "\n",
       "    .dataframe tbody tr th {\n",
       "        vertical-align: top;\n",
       "    }\n",
       "\n",
       "    .dataframe thead th {\n",
       "        text-align: right;\n",
       "    }\n",
       "</style>\n",
       "<table border=\"1\" class=\"dataframe\">\n",
       "  <thead>\n",
       "    <tr style=\"text-align: right;\">\n",
       "      <th></th>\n",
       "      <th>Spectral</th>\n",
       "      <th>K=3</th>\n",
       "      <th>K=6</th>\n",
       "      <th>K=9</th>\n",
       "      <th>K=12</th>\n",
       "    </tr>\n",
       "  </thead>\n",
       "  <tbody>\n",
       "    <tr>\n",
       "      <th>sigma = 25</th>\n",
       "      <td>2049.723901</td>\n",
       "      <td>1864.908968</td>\n",
       "      <td>2144.918350</td>\n",
       "      <td>2400.680087</td>\n",
       "      <td>2608.446799</td>\n",
       "    </tr>\n",
       "    <tr>\n",
       "      <th>sigma = 50</th>\n",
       "      <td>2380.880234</td>\n",
       "      <td>2643.729129</td>\n",
       "      <td>2519.843304</td>\n",
       "      <td>2632.970359</td>\n",
       "      <td>2771.356238</td>\n",
       "    </tr>\n",
       "    <tr>\n",
       "      <th>sigma = 75</th>\n",
       "      <td>2719.620206</td>\n",
       "      <td>3613.236103</td>\n",
       "      <td>3112.159172</td>\n",
       "      <td>3044.429945</td>\n",
       "      <td>3077.907374</td>\n",
       "    </tr>\n",
       "    <tr>\n",
       "      <th>sigma = 100</th>\n",
       "      <td>3060.564504</td>\n",
       "      <td>4631.744934</td>\n",
       "      <td>3778.815027</td>\n",
       "      <td>3538.984638</td>\n",
       "      <td>3473.834498</td>\n",
       "    </tr>\n",
       "  </tbody>\n",
       "</table>\n",
       "</div>"
      ],
      "text/plain": [
       "                Spectral          K=3          K=6          K=9         K=12\n",
       "sigma = 25   2049.723901  1864.908968  2144.918350  2400.680087  2608.446799\n",
       "sigma = 50   2380.880234  2643.729129  2519.843304  2632.970359  2771.356238\n",
       "sigma = 75   2719.620206  3613.236103  3112.159172  3044.429945  3077.907374\n",
       "sigma = 100  3060.564504  4631.744934  3778.815027  3538.984638  3473.834498"
      ]
     },
     "execution_count": 7,
     "metadata": {},
     "output_type": "execute_result"
    }
   ],
   "source": [
    "df.head()"
   ]
  },
  {
   "cell_type": "code",
   "execution_count": null,
   "id": "353be970",
   "metadata": {},
   "outputs": [],
   "source": []
  }
 ],
 "metadata": {
  "kernelspec": {
   "display_name": "Python 3 (ipykernel)",
   "language": "python",
   "name": "python3"
  },
  "language_info": {
   "codemirror_mode": {
    "name": "ipython",
    "version": 3
   },
   "file_extension": ".py",
   "mimetype": "text/x-python",
   "name": "python",
   "nbconvert_exporter": "python",
   "pygments_lexer": "ipython3",
   "version": "3.10.11"
  }
 },
 "nbformat": 4,
 "nbformat_minor": 5
}
